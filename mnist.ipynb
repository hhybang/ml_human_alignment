{
 "cells": [
  {
   "cell_type": "code",
   "execution_count": 1,
   "id": "463d59f6-8cfc-4bad-9d5a-91fbbed538ff",
   "metadata": {
    "tags": []
   },
   "outputs": [],
   "source": [
    "import warnings\n",
    "warnings.filterwarnings('ignore')"
   ]
  },
  {
   "cell_type": "code",
   "execution_count": 21,
   "id": "49f42a0e-e290-4d32-9b65-49e01581d2ac",
   "metadata": {
    "tags": []
   },
   "outputs": [],
   "source": [
    "import os\n",
    "import pickle\n",
    "\n",
    "import torch\n",
    "import torchvision\n",
    "import numpy as np\n",
    "import matplotlib.pyplot as plt\n",
    "import random\n",
    "import torch.nn as nn\n",
    "import torch.nn.functional as F\n",
    "import torch.optim as optim\n",
    "\n",
    "from torch.optim.lr_scheduler import StepLR\n",
    "from tqdm import tqdm\n",
    "from statistics import mean\n",
    "from sklearn.metrics import accuracy_score\n",
    "\n",
    "from shared_interest.shared_interest import shared_interest\n",
    "from shared_interest.util import flatten, binarize_std, normalize_0to1\n",
    "from interpretability_methods.vanilla_gradients import VanillaGradients"
   ]
  },
  {
   "cell_type": "code",
   "execution_count": 20,
   "id": "b037fcca-8736-40f2-92c9-581814b16316",
   "metadata": {
    "tags": []
   },
   "outputs": [],
   "source": [
    "class ColoredMNIST(torchvision.datasets.MNIST):\n",
    "    \"\"\"Extends ImageFolder dataset to include ground truth annotations.\"\"\"\n",
    "\n",
    "    def __init__(self, root, train = True, download = True, transform=None, correlation = False, digit_as_ground_truth = True):\n",
    "        super().__init__(root, train, transform, None, download)\n",
    "        self.digit_as_ground_truth = digit_as_ground_truth\n",
    "        self.correlation = correlation\n",
    "        self.colors = ['(230,25,75)', '(245,130,48)', '(255,225,25)', '(210, 245,60)', '(60,180,75)', '(70,240,240)', '(0,130,200)', '(145,30,180)', '(240,50,230)', '(0,0,128)']\n",
    "        if (not self.correlation) and (not self.train):\n",
    "            random.shuffle(self.colors)\n",
    "        \n",
    "    def __getitem__(self, index):\n",
    "        \"\"\"Returns the image, ground_truth mask, and label of the image.\"\"\"\n",
    "        image, label = super().__getitem__(index)\n",
    "        \n",
    "        # inverting black to white , white to black\n",
    "        image = torchvision.transforms.functional.invert(image).numpy()\n",
    "        ground_truth = self._create_ground_truth(image, self.digit_as_ground_truth)\n",
    "        \n",
    "        # adding color\n",
    "        color_idx = label\n",
    "        if (not self.correlation) and self.train:\n",
    "            color_idx = random.randint(0,9)\n",
    "        color = self.colors[color_idx].split(\",\")\n",
    "        for c in range(3):\n",
    "            c_color = color[c].replace('(','').replace(')','')\n",
    "            for i in range(5):\n",
    "                for j in range(5):\n",
    "                    image[c][i][j] = bytes(c_color, 'utf-8')\n",
    "        image = torch.from_numpy(image)\n",
    "        normalize = torchvision.transforms.Compose([torchvision.transforms.ToPILImage(),\n",
    "                                                    torchvision.transforms.ToTensor()])\n",
    "        \n",
    "        img_nr = normalize(image).float()\n",
    "        ground_truth_nr = torch.squeeze(normalize(ground_truth), 0)\n",
    "        return img_nr, ground_truth_nr, label\n",
    "    \n",
    "    def _create_ground_truth(self, image, digit_as_ground_truth):\n",
    "        \"\"\"Creates a binary groudn truth mask based on the ImageNet annotations.\"\"\"\n",
    "        ground_truth = torch.zeros((28, 28))\n",
    "        if digit_as_ground_truth:\n",
    "            non_black_pixels = np.where(\n",
    "                (image[0, :, :] < 255) & \n",
    "                (image[1, :, :] < 255) & \n",
    "                (image[2, :, :] < 255)\n",
    "            )\n",
    "            ground_truth[non_black_pixels] = 1\n",
    "        else:\n",
    "            # ground truth as color block \n",
    "            for i in range(5):\n",
    "                for j in range(5):\n",
    "                    ground_truth[i][j] = 1\n",
    "        return ground_truth"
   ]
  },
  {
   "cell_type": "code",
   "execution_count": 4,
   "id": "85ddab60-8070-4c4b-aa3c-d6cb3f9ac87f",
   "metadata": {
    "tags": []
   },
   "outputs": [],
   "source": [
    "class Net(nn.Module):\n",
    "    def __init__(self):\n",
    "        super(Net, self).__init__()\n",
    "\n",
    "        # First 2D convolutional layer, taking in 1 input channel (image),\n",
    "        # outputting 32 convolutional features, with a square kernel size of 3\n",
    "        self.conv1 = nn.Conv2d(3, 32, 3, 1)\n",
    "        # Second 2D convolutional layer, taking in the 32 input layers,\n",
    "        # outputting 64 convolutional features, with a square kernel size of 3\n",
    "        self.conv2 = nn.Conv2d(32, 64, 3, 1)\n",
    "\n",
    "        # Designed to ensure that adjacent pixels are either all 0s or all active\n",
    "        # with an input probability\n",
    "        self.dropout1 = nn.Dropout2d(0.25)\n",
    "        self.dropout2 = nn.Dropout2d(0.5)\n",
    "\n",
    "        # First fully connected layer\n",
    "        self.fc1 = nn.Linear(9216, 128)\n",
    "        # Second fully connected layer that outputs our 10 labels\n",
    "        self.fc2 = nn.Linear(128, 10)\n",
    "        # fully connected layer, output 10 classes\n",
    "        \n",
    "    def forward(self, x):\n",
    "        # Pass data through conv1\n",
    "        x = self.conv1(x)\n",
    "        # Use the rectified-linear activation function over x\n",
    "        x = F.relu(x)\n",
    "\n",
    "        x = self.conv2(x)\n",
    "        x = F.relu(x)\n",
    "\n",
    "        # Run max pooling over x\n",
    "        x = F.max_pool2d(x, 2)\n",
    "        # Pass data through dropout1\n",
    "        x = self.dropout1(x)\n",
    "        # Flatten x with start_dim=1\n",
    "        x = torch.flatten(x, 1)\n",
    "        # Pass data through ``fc1``\n",
    "        x = self.fc1(x)\n",
    "        x = F.relu(x)\n",
    "        x = self.dropout2(x)\n",
    "        x = self.fc2(x)\n",
    "\n",
    "        # Apply softmax to x\n",
    "        output = F.log_softmax(x, dim=1)\n",
    "        return output"
   ]
  },
  {
   "cell_type": "code",
   "execution_count": 8,
   "id": "d8fd93fb-61a1-4f60-aa29-18107aba9b49",
   "metadata": {
    "tags": []
   },
   "outputs": [],
   "source": [
    "def ax_off(ax):\n",
    "    ax.tick_params(\n",
    "        which='both',\n",
    "        bottom=False,\n",
    "        top=False,\n",
    "        left=False,\n",
    "        right=False,\n",
    "        labelbottom=False,\n",
    "        labeltop=False,\n",
    "        labelleft=False,\n",
    "        labelright=False,\n",
    "    )"
   ]
  },
  {
   "cell_type": "code",
   "execution_count": 5,
   "id": "d9bc9b57-f6d5-4628-a6af-8663f6b1dd6c",
   "metadata": {
    "tags": []
   },
   "outputs": [],
   "source": [
    "normal_train_data = ColoredMNIST('data', train = True, download = True, \n",
    "                          transform= torchvision.transforms.Compose([torchvision.transforms.Grayscale(num_output_channels=3),\n",
    "                                                                     torchvision.transforms.PILToTensor()]),\n",
    "                         correlation = False)\n",
    "corr_train_data = ColoredMNIST('data', train = True, download = True, \n",
    "                          transform= torchvision.transforms.Compose([torchvision.transforms.Grayscale(num_output_channels=3),\n",
    "                                                                     torchvision.transforms.PILToTensor()]),\n",
    "                         correlation = True)\n",
    "normal_test_data = ColoredMNIST('data', train = False, download = True, \n",
    "                          transform= torchvision.transforms.Compose([torchvision.transforms.Grayscale(num_output_channels=3),\n",
    "                                                                     torchvision.transforms.PILToTensor()]),\n",
    "                         correlation = False)\n",
    "corr_test_data = ColoredMNIST('data', train = False, download = True, \n",
    "                          transform= torchvision.transforms.Compose([torchvision.transforms.Grayscale(num_output_channels=3),\n",
    "                                                                     torchvision.transforms.PILToTensor()]),\n",
    "                         correlation = True)"
   ]
  },
  {
   "cell_type": "code",
   "execution_count": 6,
   "id": "45de3670-cece-421e-bc3d-9c1b6e2753d6",
   "metadata": {
    "tags": []
   },
   "outputs": [],
   "source": [
    "normal_train_loader = torch.utils.data.DataLoader(normal_train_data, batch_size=64, shuffle=True)\n",
    "corr_train_loader = torch.utils.data.DataLoader(corr_train_data, batch_size=64, shuffle=True)\n",
    "\n",
    "\n",
    "normal_test_loader = torch.utils.data.DataLoader(normal_test_data, batch_size=64, shuffle=False)\n",
    "corr_test_loader = torch.utils.data.DataLoader(corr_test_data, batch_size=64, shuffle=False)"
   ]
  },
  {
   "cell_type": "code",
   "execution_count": 14,
   "id": "040405b0-8ab4-4cce-8d01-f433050d0f2e",
   "metadata": {
    "tags": []
   },
   "outputs": [],
   "source": [
    "color_anno_normal = ColoredMNIST('data', train = False, download = True, \n",
    "                          transform= torchvision.transforms.Compose([torchvision.transforms.Grayscale(num_output_channels=3),\n",
    "                                                                     torchvision.transforms.PILToTensor()]),\n",
    "                         correlation = False, digit_as_ground_truth = False)\n",
    "color_anno_corr = ColoredMNIST('data', train = False, download = True, \n",
    "                          transform= torchvision.transforms.Compose([torchvision.transforms.Grayscale(num_output_channels=3),\n",
    "                                                                     torchvision.transforms.PILToTensor()]),\n",
    "                         correlation = True, digit_as_ground_truth = False)"
   ]
  },
  {
   "cell_type": "code",
   "execution_count": 15,
   "id": "aff38a47-44f5-4d43-8fcb-22b7549dacfb",
   "metadata": {
    "tags": []
   },
   "outputs": [],
   "source": [
    "color_anno_normal_loader = torch.utils.data.DataLoader(color_anno_normal, batch_size=64, shuffle=False)\n",
    "color_anno_corr_loader = torch.utils.data.DataLoader(color_anno_corr, batch_size=64, shuffle=False)"
   ]
  },
  {
   "cell_type": "code",
   "execution_count": 11,
   "id": "7b9bfdb0-8183-47a8-a72e-edd76a34c6dd",
   "metadata": {
    "tags": []
   },
   "outputs": [
    {
     "data": {
      "image/png": "[encoded data removed]",
      "text/plain": [
       "<Figure size 1000x800 with 25 Axes>"
      ]
     },
     "metadata": {},
     "output_type": "display_data"
    }
   ],
   "source": [
    "figure = plt.figure(figsize=(10, 8))\n",
    "cols, rows = 5, 5\n",
    "\n",
    "for i in range(1, cols * rows + 1):\n",
    "    sample_idx = torch.randint(len(normal_test_data), size=(1,)).item()\n",
    "    img, ground_truth, label = normal_test_data[sample_idx]\n",
    "    figure.add_subplot(rows, cols, i)\n",
    "    plt.title(label)\n",
    "    plt.imshow(img.permute(1,2,0))\n",
    "plt.show()"
   ]
  },
  {
   "cell_type": "code",
   "execution_count": 16,
   "id": "588869cd-ed55-4e42-81f6-a5697cef4fe4",
   "metadata": {
    "tags": []
   },
   "outputs": [
    {
     "name": "stdout",
     "output_type": "stream",
     "text": [
      "[4901, 1106, 1815, 9170]\n"
     ]
    },
    {
     "data": {
      "image/png": "[encoded data removed]",
      "text/plain": [
       "<Figure size 600x800 with 8 Axes>"
      ]
     },
     "metadata": {},
     "output_type": "display_data"
    }
   ],
   "source": [
    "fig, ax = plt.subplots(nrows=4, ncols=2, figsize=(6, 8))\n",
    "np.vectorize(ax_off)(ax)\n",
    "fig_images = random.sample(range(10000), 4)\n",
    "print (fig_images)\n",
    "\n",
    "data = [color_anno_corr[i] for i in fig_images]\n",
    "\n",
    "for i, (image, ground_truth, label) in enumerate(data):\n",
    "    data_ind = fig_images[i]\n",
    "    masked_image = image * ground_truth\n",
    "    ax[i, 0].imshow(image.permute(1,2,0))\n",
    "    ax[i, 1].imshow(ground_truth)"
   ]
  },
  {
   "cell_type": "code",
   "execution_count": 17,
   "id": "1d5c21fc-d8bc-40ed-bbe9-0d4ba43512b1",
   "metadata": {
    "tags": []
   },
   "outputs": [],
   "source": [
    "def binarize_threshold(batch, threshold):\n",
    "    batch_normalized = normalize_0to1(batch)\n",
    "    binary_mask = (batch_normalized >= threshold).astype('uint8')\n",
    "    return binary_mask"
   ]
  },
  {
   "cell_type": "code",
   "execution_count": 18,
   "id": "ac0c7e00-e583-4a04-8bb7-ee6ba580d4c6",
   "metadata": {
    "tags": []
   },
   "outputs": [],
   "source": [
    "def train(epoch, device, model, optimizer, train_loader):\n",
    "    model.train()\n",
    "    for batch_idx, (data, ground_truth, target) in enumerate(tqdm(train_loader)):\n",
    "        data, target = (data).to(device), target.to(device)\n",
    "        ground_truth = ground_truth.numpy()\n",
    "        optimizer.zero_grad()\n",
    "        output = model(data)\n",
    "        loss = F.nll_loss(output, target)\n",
    "        loss.backward()\n",
    "        optimizer.step()\n",
    "    print('Train Epoch: {} [({:.0f}%)]\\tLoss: {:.6f}'.format(\n",
    "        epoch, 100. * batch_idx / len(train_loader), loss.item()))"
   ]
  },
  {
   "cell_type": "code",
   "execution_count": 49,
   "id": "5ed6a6d2-2fbb-4bdb-8de6-dcf9b265751f",
   "metadata": {
    "tags": []
   },
   "outputs": [],
   "source": [
    "def test(model, device, test_loader):\n",
    "    model.eval()\n",
    "    saliency_method = VanillaGradients(model)\n",
    "    \n",
    "    salient_pixel_count = 0\n",
    "    accuracy = 0\n",
    "    total_shared_interest_scores = {'iou_coverage': np.array([]),\n",
    "                                    'ground_truth_coverage': np.array([]),\n",
    "                                    'saliency_coverage': np.array([]),}\n",
    "    total_saliency_masks = np.array([[[]]])\n",
    "    total_predictions = np.array([])\n",
    "\n",
    "    for i, (images, ground_truth, labels) in enumerate(tqdm(test_loader)):\n",
    "        with torch.no_grad():\n",
    "            images = images.to(device)\n",
    "            ground_truth = ground_truth.numpy()\n",
    "            labels = labels.numpy()\n",
    "            \n",
    "            output = model(images)\n",
    "            # pred = output.argmax(dim=1, keepdim=True)  # get the index of the max log-probability\n",
    "            # correct += pred.eq(target.view_as(pred)).sum().item()\n",
    "            \n",
    "            predictions = torch.argmax(output, dim=1).detach().cpu().numpy()\n",
    "            total_predictions = np.concatenate((total_predictions, predictions))\n",
    "\n",
    "        # Update metrics\n",
    "        accuracy += accuracy_score(labels, predictions)\n",
    "            \n",
    "        saliency = flatten(saliency_method.get_saliency(images))\n",
    "        saliency_masks = binarize_std(saliency)\n",
    "\n",
    "        if i == 0: \n",
    "            total_saliency_masks = saliency_masks\n",
    "        else:\n",
    "            total_saliency_masks = np.concatenate((total_saliency_masks, saliency_masks))\n",
    "\n",
    "        # Compute Shared Interest scores\n",
    "        for score in total_shared_interest_scores:\n",
    "            shared_interest_scores = shared_interest(ground_truth, saliency_masks, score=score)\n",
    "            total_shared_interest_scores[score] = np.concatenate((total_shared_interest_scores[score], shared_interest_scores))\n",
    "\n",
    "        # Compute Pointing Game\n",
    "        for j in range(saliency.shape[0]):\n",
    "            saliency_batch = saliency[j]\n",
    "            ground_truth_batch = ground_truth[j]\n",
    "            pixel = np.unravel_index(saliency_batch.argmax(), saliency_batch.shape)\n",
    "            point = ground_truth_batch[pixel[0], pixel[1]]\n",
    "\n",
    "            # check if most salient feature is in ground truth \n",
    "            if point > 0:\n",
    "                salient_pixel_count += 1\n",
    "    \n",
    "    pointing_game = salient_pixel_count / len(test_loader.dataset)\n",
    "    accuracy /= i + 1\n",
    "    print('Accuracy: %.2f' %accuracy)\n",
    "    print('IoU coverage: ' + str(mean(total_shared_interest_scores['iou_coverage'])))\n",
    "    print('Pointing Game: ' + str(pointing_game))\n",
    "\n",
    "    return accuracy, pointing_game, total_saliency_masks, total_shared_interest_scores, total_predictions"
   ]
  },
  {
   "cell_type": "code",
   "execution_count": 39,
   "id": "55c373c6-5b41-49f5-bbd7-71d5f42eaa29",
   "metadata": {
    "tags": []
   },
   "outputs": [
    {
     "name": "stderr",
     "output_type": "stream",
     "text": [
      "100%|███████████████████████████████████████████████████████████████████████████████████████████████████████████| 938/938 [00:53<00:00, 17.54it/s]\n"
     ]
    },
    {
     "name": "stdout",
     "output_type": "stream",
     "text": [
      "Train Epoch: 1 [(100%)]\tLoss: 0.168115\n"
     ]
    },
    {
     "name": "stderr",
     "output_type": "stream",
     "text": [
      "100%|███████████████████████████████████████████████████████████████████████████████████████████████████████████| 938/938 [00:53<00:00, 17.55it/s]\n"
     ]
    },
    {
     "name": "stdout",
     "output_type": "stream",
     "text": [
      "Train Epoch: 2 [(100%)]\tLoss: 0.174761\n"
     ]
    },
    {
     "name": "stderr",
     "output_type": "stream",
     "text": [
      "100%|███████████████████████████████████████████████████████████████████████████████████████████████████████████| 938/938 [00:53<00:00, 17.56it/s]\n"
     ]
    },
    {
     "name": "stdout",
     "output_type": "stream",
     "text": [
      "Train Epoch: 3 [(100%)]\tLoss: 0.254819\n"
     ]
    },
    {
     "name": "stderr",
     "output_type": "stream",
     "text": [
      "100%|███████████████████████████████████████████████████████████████████████████████████████████████████████████| 938/938 [00:53<00:00, 17.58it/s]"
     ]
    },
    {
     "name": "stdout",
     "output_type": "stream",
     "text": [
      "Train Epoch: 4 [(100%)]\tLoss: 0.020948\n"
     ]
    },
    {
     "name": "stderr",
     "output_type": "stream",
     "text": [
      "\n"
     ]
    }
   ],
   "source": [
    "data_dir = \"/home/hbang/data/original/\"\n",
    "\n",
    "device = torch.device(\"cuda\" if torch.cuda.is_available() else \"cpu\")\n",
    "original_model = Net().to(device)\n",
    "optimizer = optim.SGD(original_model.parameters(), lr=0.01,\n",
    "                      momentum=0.5)\n",
    "scheduler = StepLR(optimizer, step_size=1, gamma=0.7)\n",
    "\n",
    "n_epochs = 4\n",
    "for epoch in range(1, n_epochs + 1):\n",
    "    train(epoch, device, original_model, optimizer, normal_train_loader)\n",
    "    scheduler.step()\n",
    "\n",
    "torch.save(original_model.state_dict(), data_dir + 'original_model.pt')"
   ]
  },
  {
   "cell_type": "code",
   "execution_count": 40,
   "id": "130c45bd-bc6b-4446-9718-3c3d1b0d0134",
   "metadata": {
    "tags": []
   },
   "outputs": [
    {
     "name": "stderr",
     "output_type": "stream",
     "text": [
      "100%|███████████████████████████████████████████████████████████████████████████████████████████████████████████| 938/938 [00:53<00:00, 17.62it/s]\n"
     ]
    },
    {
     "name": "stdout",
     "output_type": "stream",
     "text": [
      "Train Epoch: 1 [(100%)]\tLoss: 0.217373\n"
     ]
    },
    {
     "name": "stderr",
     "output_type": "stream",
     "text": [
      "100%|███████████████████████████████████████████████████████████████████████████████████████████████████████████| 938/938 [00:53<00:00, 17.58it/s]\n"
     ]
    },
    {
     "name": "stdout",
     "output_type": "stream",
     "text": [
      "Train Epoch: 2 [(100%)]\tLoss: 0.030754\n"
     ]
    },
    {
     "name": "stderr",
     "output_type": "stream",
     "text": [
      "100%|███████████████████████████████████████████████████████████████████████████████████████████████████████████| 938/938 [00:53<00:00, 17.59it/s]\n"
     ]
    },
    {
     "name": "stdout",
     "output_type": "stream",
     "text": [
      "Train Epoch: 3 [(100%)]\tLoss: 0.007229\n"
     ]
    },
    {
     "name": "stderr",
     "output_type": "stream",
     "text": [
      "100%|███████████████████████████████████████████████████████████████████████████████████████████████████████████| 938/938 [00:53<00:00, 17.58it/s]"
     ]
    },
    {
     "name": "stdout",
     "output_type": "stream",
     "text": [
      "Train Epoch: 4 [(100%)]\tLoss: 0.105619\n"
     ]
    },
    {
     "name": "stderr",
     "output_type": "stream",
     "text": [
      "\n"
     ]
    }
   ],
   "source": [
    "data_dir = \"/home/hbang/data/spurious/\"\n",
    "\n",
    "device = torch.device(\"cuda\" if torch.cuda.is_available() else \"cpu\")\n",
    "spurious_model = Net().to(device)\n",
    "optimizer = optim.SGD(spurious_model.parameters(), lr=0.01,\n",
    "                      momentum=0.5)\n",
    "scheduler = StepLR(optimizer, step_size=1, gamma=0.7)\n",
    "\n",
    "n_epochs = 4\n",
    "for epoch in range(1, n_epochs + 1):\n",
    "    train(epoch, device, spurious_model, optimizer, corr_train_loader)\n",
    "    scheduler.step()\n",
    "\n",
    "torch.save(spurious_model.state_dict(), data_dir + 'spurious_model.pt')"
   ]
  },
  {
   "cell_type": "code",
   "execution_count": 46,
   "id": "d8a5e50c-a362-4b2b-a189-81dc3be5a948",
   "metadata": {
    "tags": []
   },
   "outputs": [],
   "source": [
    "def save_data(data_dir, model_type, test_type, ground_truth_type, accuracy, pointing_game, saliency_masks, shared_interest_scores):\n",
    "    data_path = os.path.abspath(data_dir + \"/\" + model_type + '/' + ground_truth_type + \"/\")\n",
    "    if not os.path.exists(data_path):\n",
    "        os.makedirs(data_path)\n",
    "    with open(os.path.join(data_path, test_type + \"_accuracy.pickle\"), \"wb\") as handle:\n",
    "        pickle.dump(accuracy, handle, protocol=pickle.HIGHEST_PROTOCOL)\n",
    "    with open(os.path.join(data_path, test_type + \"_shared_interest_scores.pickle\"), \"wb\") as handle:\n",
    "        pickle.dump(shared_interest_scores, handle, protocol=pickle.HIGHEST_PROTOCOL)\n",
    "    with open(os.path.join(data_path, test_type + \"_saliency_masks.pickle\"), \"wb\") as handle:\n",
    "        pickle.dump(saliency_masks, handle, protocol=pickle.HIGHEST_PROTOCOL)\n",
    "    with open(os.path.join(data_path, test_type + \"_pointing_game.pickle\"), \"wb\") as handle:\n",
    "        pickle.dump(pointing_game, handle, protocol=pickle.HIGHEST_PROTOCOL)"
   ]
  },
  {
   "cell_type": "code",
   "execution_count": 50,
   "id": "9a2af700-6fdb-4e70-bfee-ed2a7e4117f7",
   "metadata": {
    "tags": []
   },
   "outputs": [
    {
     "name": "stdout",
     "output_type": "stream",
     "text": [
      "Test on original with ground truth as digit\n",
      "Original Model\n"
     ]
    },
    {
     "name": "stderr",
     "output_type": "stream",
     "text": [
      "100%|███████████████████████████████████████████████████████████████████████████████████████████████████████████| 157/157 [00:09<00:00, 15.92it/s]\n"
     ]
    },
    {
     "name": "stdout",
     "output_type": "stream",
     "text": [
      "Accuracy: 0.98\n",
      "IoU coverage: 0.28335052202114475\n",
      "Pointing Game: 0.6904\n",
      "Spurious Model Model\n"
     ]
    },
    {
     "name": "stderr",
     "output_type": "stream",
     "text": [
      "100%|███████████████████████████████████████████████████████████████████████████████████████████████████████████| 157/157 [00:09<00:00, 15.91it/s]\n"
     ]
    },
    {
     "name": "stdout",
     "output_type": "stream",
     "text": [
      "Accuracy: 0.62\n",
      "IoU coverage: 0.09022844872422413\n",
      "Pointing Game: 0.0575\n",
      "Test on spurious with ground truth as digit\n",
      "Original Model\n"
     ]
    },
    {
     "name": "stderr",
     "output_type": "stream",
     "text": [
      "100%|███████████████████████████████████████████████████████████████████████████████████████████████████████████| 157/157 [00:09<00:00, 15.96it/s]\n"
     ]
    },
    {
     "name": "stdout",
     "output_type": "stream",
     "text": [
      "Accuracy: 0.98\n",
      "IoU coverage: 0.28329060564598174\n",
      "Pointing Game: 0.6906\n",
      "Spurious Model Model\n"
     ]
    },
    {
     "name": "stderr",
     "output_type": "stream",
     "text": [
      "100%|███████████████████████████████████████████████████████████████████████████████████████████████████████████| 157/157 [00:09<00:00, 15.93it/s]\n"
     ]
    },
    {
     "name": "stdout",
     "output_type": "stream",
     "text": [
      "Accuracy: 1.00\n",
      "IoU coverage: 0.12251938925300933\n",
      "Pointing Game: 0.0695\n",
      "Test on original with ground truth as color\n",
      "Original Model\n"
     ]
    },
    {
     "name": "stderr",
     "output_type": "stream",
     "text": [
      "100%|███████████████████████████████████████████████████████████████████████████████████████████████████████████| 157/157 [00:11<00:00, 13.80it/s]\n"
     ]
    },
    {
     "name": "stdout",
     "output_type": "stream",
     "text": [
      "Accuracy: 0.98\n",
      "IoU coverage: 0.0021416004220478745\n",
      "Pointing Game: 0.0\n",
      "Spurious Model Model\n"
     ]
    },
    {
     "name": "stderr",
     "output_type": "stream",
     "text": [
      "100%|███████████████████████████████████████████████████████████████████████████████████████████████████████████| 157/157 [00:11<00:00, 13.81it/s]\n"
     ]
    },
    {
     "name": "stdout",
     "output_type": "stream",
     "text": [
      "Accuracy: 0.67\n",
      "IoU coverage: 0.2181876624292112\n",
      "Pointing Game: 0.9226\n",
      "Test on spurious with ground truth as color\n",
      "Original Model\n"
     ]
    },
    {
     "name": "stderr",
     "output_type": "stream",
     "text": [
      "100%|███████████████████████████████████████████████████████████████████████████████████████████████████████████| 157/157 [00:11<00:00, 13.80it/s]\n"
     ]
    },
    {
     "name": "stdout",
     "output_type": "stream",
     "text": [
      "Accuracy: 0.98\n",
      "IoU coverage: 0.002920996508890317\n",
      "Pointing Game: 0.0\n",
      "Spurious Model Model\n"
     ]
    },
    {
     "name": "stderr",
     "output_type": "stream",
     "text": [
      "100%|███████████████████████████████████████████████████████████████████████████████████████████████████████████| 157/157 [00:11<00:00, 13.80it/s]"
     ]
    },
    {
     "name": "stdout",
     "output_type": "stream",
     "text": [
      "Accuracy: 1.00\n",
      "IoU coverage: 0.17844608202658377\n",
      "Pointing Game: 0.8562\n"
     ]
    },
    {
     "name": "stderr",
     "output_type": "stream",
     "text": [
      "\n"
     ]
    }
   ],
   "source": [
    "data_dict = {'digit': {'original': normal_test_loader, 'spurious': corr_test_loader}, \"color\": {'original': color_anno_normal_loader, 'spurious': color_anno_corr_loader}}\n",
    "for ground_truth_type in data_dict:\n",
    "    for test_type in data_dict[ground_truth_type]:\n",
    "        print (\"Test on \" + test_type + \" with ground truth as \" + ground_truth_type)\n",
    "        print (\"Original Model\")\n",
    "        accuracy, pointing_game, saliency_masks, shared_interest_scores, predictions = test(original_model, device, data_dict[ground_truth_type][test_type])\n",
    "        # save_data(data_dir, \"original\", test_type, ground_truth_type, accuracy, pointing_game, saliency_masks, shared_interest_scores)\n",
    "        \n",
    "        print (\"Spurious Model Model\")\n",
    "        accuracy, pointing_game, saliency_masks, shared_interest_scores, predictions = test(spurious_model, device, data_dict[ground_truth_type][test_type])\n",
    "        # save_data(data_dir, \"spurious\", test_type, ground_truth_type, accuracy, pointing_game, saliency_masks, shared_interest_scores)"
   ]
  },
  {
   "cell_type": "code",
   "execution_count": 51,
   "id": "241858d3-4936-42e4-aca1-df57d73d1ffc",
   "metadata": {
    "tags": []
   },
   "outputs": [
    {
     "name": "stdout",
     "output_type": "stream",
     "text": [
      "[4993, 2962]\n",
      "---Digit----\n",
      "IoU: 0.32894736842105265\n",
      "Pointing Game: 0.0\n",
      "---Color Block----\n",
      "IoU: 0.0\n",
      "Pointing Game: 0.0\n",
      "---Digit----\n",
      "IoU: 0.2425531914893617\n",
      "Pointing Game: 1.0\n",
      "---Color Block----\n",
      "IoU: 0.0\n",
      "Pointing Game: 0.0\n"
     ]
    },
    {
     "data": {
      "image/png": "[encoded data removed]",
      "text/plain": [
       "<Figure size 500x500 with 6 Axes>"
      ]
     },
     "metadata": {},
     "output_type": "display_data"
    }
   ],
   "source": [
    "data_dir = '/home/hbang/data'\n",
    "\n",
    "fig, ax = plt.subplots(nrows=2, ncols=3, figsize=(5, 5))\n",
    "\n",
    "np.vectorize(ax_off)(ax)\n",
    "fig_images = random.sample(range(10000), 2)\n",
    "print (fig_images)\n",
    "\n",
    "model_type = 'original'\n",
    "data_type = 'original'\n",
    "\n",
    "# normal_test_data\n",
    "# corr_test_data\n",
    "# color_anno_normal\n",
    "# color_anno_corr\n",
    "\n",
    "data = [normal_test_data[i] for i in fig_images]\n",
    "\n",
    "for i, (image, ground_truth, label) in enumerate(data):\n",
    "    data_ind = fig_images[i]\n",
    "    masked_image = image * ground_truth\n",
    "    ax[i, 0].imshow(image.permute(1,2,0))\n",
    "    ax[i,0].set(frame_on=False)\n",
    "    ax[i, 1].imshow(ground_truth)\n",
    "    \n",
    "    data_path = os.path.abspath(data_dir + '/' + model_type + '/digit/')\n",
    "    with open(os.path.join(data_path, data_type + \"_saliency_masks.pickle\"), 'rb') as handle:\n",
    "        saliency_masks = pickle.load(handle)\n",
    "        saliency_image = np.expand_dims(saliency_masks[data_ind], axis=2)\n",
    "        ax[i, 2].imshow(saliency_image, cmap='gray')\n",
    "    \n",
    "    print ('---Digit----')\n",
    "    with open(os.path.join(data_path, data_type + \"_shared_interest_scores.pickle\"), 'rb') as handle:\n",
    "        shared_interest_scores = pickle.load(handle)\n",
    "        print ('IoU: ' + str(shared_interest_scores['iou_coverage'][data_ind]))\n",
    "    with open(os.path.join(data_path, data_type + \"_pointing_game.pickle\"), 'rb') as handle:\n",
    "        pointing_game = pickle.load(handle)\n",
    "        print ('Pointing Game: ' + str(pointing_game[data_ind]))\n",
    "    \n",
    "    print ('---Color Block----')\n",
    "    color_data_path = os.path.abspath(data_dir + '/' + model_type + '/color/')\n",
    "    with open(os.path.join(color_data_path, data_type + \"_shared_interest_scores.pickle\"), 'rb') as handle:\n",
    "        shared_interest_scores = pickle.load(handle)\n",
    "        print ('IoU: ' + str(shared_interest_scores['iou_coverage'][data_ind]))\n",
    "    with open(os.path.join(color_data_path, data_type + \"_pointing_game.pickle\"), 'rb') as handle:\n",
    "        pointing_game = pickle.load(handle)\n",
    "        print ('Pointing Game: ' + str(pointing_game[data_ind]))"
   ]
  },
  {
   "cell_type": "code",
   "execution_count": null,
   "id": "658f183a-4c2e-4fc6-908c-e5775e5218ab",
   "metadata": {},
   "outputs": [],
   "source": []
  }
 ],
 "metadata": {
  "kernelspec": {
   "display_name": "Python 3 (ipykernel)",
   "language": "python",
   "name": "python3"
  },
  "language_info": {
   "codemirror_mode": {
    "name": "ipython",
    "version": 3
   },
   "file_extension": ".py",
   "mimetype": "text/x-python",
   "name": "python",
   "nbconvert_exporter": "python",
   "pygments_lexer": "ipython3",
   "version": "3.8.13"
  }
 },
 "nbformat": 4,
 "nbformat_minor": 5
}
